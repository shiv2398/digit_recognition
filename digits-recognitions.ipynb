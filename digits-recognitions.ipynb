{
 "cells": [
  {
   "cell_type": "code",
   "execution_count": 1,
   "id": "3dd42fce",
   "metadata": {
    "_cell_guid": "b1076dfc-b9ad-4769-8c92-a6c4dae69d19",
    "_uuid": "8f2839f25d086af736a60e9eeb907d3b93b6e0e5",
    "execution": {
     "iopub.execute_input": "2022-09-14T00:15:02.900431Z",
     "iopub.status.busy": "2022-09-14T00:15:02.899949Z",
     "iopub.status.idle": "2022-09-14T00:15:02.915808Z",
     "shell.execute_reply": "2022-09-14T00:15:02.914355Z"
    },
    "papermill": {
     "duration": 0.02704,
     "end_time": "2022-09-14T00:15:02.918808",
     "exception": false,
     "start_time": "2022-09-14T00:15:02.891768",
     "status": "completed"
    },
    "tags": []
   },
   "outputs": [
    {
     "name": "stdout",
     "output_type": "stream",
     "text": [
      "/kaggle/input/digit-recognizer/sample_submission.csv\n",
      "/kaggle/input/digit-recognizer/train.csv\n",
      "/kaggle/input/digit-recognizer/test.csv\n"
     ]
    }
   ],
   "source": [
    "# This Python 3 environment comes with many helpful analytics libraries installed\n",
    "# It is defined by the kaggle/python Docker image: https://github.com/kaggle/docker-python\n",
    "# For example, here's several helpful packages to load\n",
    "\n",
    "import numpy as np # linear algebra\n",
    "import pandas as pd # data processing, CSV file I/O (e.g. pd.read_csv)\n",
    "\n",
    "# Input data files are available in the read-only \"../input/\" directory\n",
    "# For example, running this (by clicking run or pressing Shift+Enter) will list all files under the input directory\n",
    "\n",
    "import os\n",
    "for dirname, _, filenames in os.walk('/kaggle/input'):\n",
    "    for filename in filenames:\n",
    "        print(os.path.join(dirname, filename))\n",
    "\n",
    "# You can write up to 20GB to the current directory (/kaggle/working/) that gets preserved as output when you create a version using \"Save & Run All\" \n",
    "# You can also write temporary files to /kaggle/temp/, but they won't be saved outside of the current session"
   ]
  },
  {
   "cell_type": "code",
   "execution_count": 2,
   "id": "c2618dc8",
   "metadata": {
    "execution": {
     "iopub.execute_input": "2022-09-14T00:15:02.931236Z",
     "iopub.status.busy": "2022-09-14T00:15:02.930813Z",
     "iopub.status.idle": "2022-09-14T00:15:08.278443Z",
     "shell.execute_reply": "2022-09-14T00:15:08.277355Z"
    },
    "papermill": {
     "duration": 5.357032,
     "end_time": "2022-09-14T00:15:08.281304",
     "exception": false,
     "start_time": "2022-09-14T00:15:02.924272",
     "status": "completed"
    },
    "tags": []
   },
   "outputs": [],
   "source": [
    "import pandas as pd\n",
    "import numpy as np\n",
    "\n",
    "train_data=pd.read_csv('../input/digit-recognizer/train.csv')\n",
    "\n",
    "test_data=pd.read_csv('../input/digit-recognizer/test.csv')"
   ]
  },
  {
   "cell_type": "code",
   "execution_count": 3,
   "id": "00595400",
   "metadata": {
    "execution": {
     "iopub.execute_input": "2022-09-14T00:15:08.294627Z",
     "iopub.status.busy": "2022-09-14T00:15:08.294241Z",
     "iopub.status.idle": "2022-09-14T00:15:08.321986Z",
     "shell.execute_reply": "2022-09-14T00:15:08.320798Z"
    },
    "papermill": {
     "duration": 0.037803,
     "end_time": "2022-09-14T00:15:08.324754",
     "exception": false,
     "start_time": "2022-09-14T00:15:08.286951",
     "status": "completed"
    },
    "tags": []
   },
   "outputs": [
    {
     "data": {
      "text/html": [
       "<div>\n",
       "<style scoped>\n",
       "    .dataframe tbody tr th:only-of-type {\n",
       "        vertical-align: middle;\n",
       "    }\n",
       "\n",
       "    .dataframe tbody tr th {\n",
       "        vertical-align: top;\n",
       "    }\n",
       "\n",
       "    .dataframe thead th {\n",
       "        text-align: right;\n",
       "    }\n",
       "</style>\n",
       "<table border=\"1\" class=\"dataframe\">\n",
       "  <thead>\n",
       "    <tr style=\"text-align: right;\">\n",
       "      <th></th>\n",
       "      <th>label</th>\n",
       "      <th>pixel0</th>\n",
       "      <th>pixel1</th>\n",
       "      <th>pixel2</th>\n",
       "      <th>pixel3</th>\n",
       "      <th>pixel4</th>\n",
       "      <th>pixel5</th>\n",
       "      <th>pixel6</th>\n",
       "      <th>pixel7</th>\n",
       "      <th>pixel8</th>\n",
       "      <th>...</th>\n",
       "      <th>pixel774</th>\n",
       "      <th>pixel775</th>\n",
       "      <th>pixel776</th>\n",
       "      <th>pixel777</th>\n",
       "      <th>pixel778</th>\n",
       "      <th>pixel779</th>\n",
       "      <th>pixel780</th>\n",
       "      <th>pixel781</th>\n",
       "      <th>pixel782</th>\n",
       "      <th>pixel783</th>\n",
       "    </tr>\n",
       "  </thead>\n",
       "  <tbody>\n",
       "    <tr>\n",
       "      <th>0</th>\n",
       "      <td>1</td>\n",
       "      <td>0</td>\n",
       "      <td>0</td>\n",
       "      <td>0</td>\n",
       "      <td>0</td>\n",
       "      <td>0</td>\n",
       "      <td>0</td>\n",
       "      <td>0</td>\n",
       "      <td>0</td>\n",
       "      <td>0</td>\n",
       "      <td>...</td>\n",
       "      <td>0</td>\n",
       "      <td>0</td>\n",
       "      <td>0</td>\n",
       "      <td>0</td>\n",
       "      <td>0</td>\n",
       "      <td>0</td>\n",
       "      <td>0</td>\n",
       "      <td>0</td>\n",
       "      <td>0</td>\n",
       "      <td>0</td>\n",
       "    </tr>\n",
       "    <tr>\n",
       "      <th>1</th>\n",
       "      <td>0</td>\n",
       "      <td>0</td>\n",
       "      <td>0</td>\n",
       "      <td>0</td>\n",
       "      <td>0</td>\n",
       "      <td>0</td>\n",
       "      <td>0</td>\n",
       "      <td>0</td>\n",
       "      <td>0</td>\n",
       "      <td>0</td>\n",
       "      <td>...</td>\n",
       "      <td>0</td>\n",
       "      <td>0</td>\n",
       "      <td>0</td>\n",
       "      <td>0</td>\n",
       "      <td>0</td>\n",
       "      <td>0</td>\n",
       "      <td>0</td>\n",
       "      <td>0</td>\n",
       "      <td>0</td>\n",
       "      <td>0</td>\n",
       "    </tr>\n",
       "    <tr>\n",
       "      <th>2</th>\n",
       "      <td>1</td>\n",
       "      <td>0</td>\n",
       "      <td>0</td>\n",
       "      <td>0</td>\n",
       "      <td>0</td>\n",
       "      <td>0</td>\n",
       "      <td>0</td>\n",
       "      <td>0</td>\n",
       "      <td>0</td>\n",
       "      <td>0</td>\n",
       "      <td>...</td>\n",
       "      <td>0</td>\n",
       "      <td>0</td>\n",
       "      <td>0</td>\n",
       "      <td>0</td>\n",
       "      <td>0</td>\n",
       "      <td>0</td>\n",
       "      <td>0</td>\n",
       "      <td>0</td>\n",
       "      <td>0</td>\n",
       "      <td>0</td>\n",
       "    </tr>\n",
       "    <tr>\n",
       "      <th>3</th>\n",
       "      <td>4</td>\n",
       "      <td>0</td>\n",
       "      <td>0</td>\n",
       "      <td>0</td>\n",
       "      <td>0</td>\n",
       "      <td>0</td>\n",
       "      <td>0</td>\n",
       "      <td>0</td>\n",
       "      <td>0</td>\n",
       "      <td>0</td>\n",
       "      <td>...</td>\n",
       "      <td>0</td>\n",
       "      <td>0</td>\n",
       "      <td>0</td>\n",
       "      <td>0</td>\n",
       "      <td>0</td>\n",
       "      <td>0</td>\n",
       "      <td>0</td>\n",
       "      <td>0</td>\n",
       "      <td>0</td>\n",
       "      <td>0</td>\n",
       "    </tr>\n",
       "    <tr>\n",
       "      <th>4</th>\n",
       "      <td>0</td>\n",
       "      <td>0</td>\n",
       "      <td>0</td>\n",
       "      <td>0</td>\n",
       "      <td>0</td>\n",
       "      <td>0</td>\n",
       "      <td>0</td>\n",
       "      <td>0</td>\n",
       "      <td>0</td>\n",
       "      <td>0</td>\n",
       "      <td>...</td>\n",
       "      <td>0</td>\n",
       "      <td>0</td>\n",
       "      <td>0</td>\n",
       "      <td>0</td>\n",
       "      <td>0</td>\n",
       "      <td>0</td>\n",
       "      <td>0</td>\n",
       "      <td>0</td>\n",
       "      <td>0</td>\n",
       "      <td>0</td>\n",
       "    </tr>\n",
       "  </tbody>\n",
       "</table>\n",
       "<p>5 rows × 785 columns</p>\n",
       "</div>"
      ],
      "text/plain": [
       "   label  pixel0  pixel1  pixel2  pixel3  pixel4  pixel5  pixel6  pixel7  \\\n",
       "0      1       0       0       0       0       0       0       0       0   \n",
       "1      0       0       0       0       0       0       0       0       0   \n",
       "2      1       0       0       0       0       0       0       0       0   \n",
       "3      4       0       0       0       0       0       0       0       0   \n",
       "4      0       0       0       0       0       0       0       0       0   \n",
       "\n",
       "   pixel8  ...  pixel774  pixel775  pixel776  pixel777  pixel778  pixel779  \\\n",
       "0       0  ...         0         0         0         0         0         0   \n",
       "1       0  ...         0         0         0         0         0         0   \n",
       "2       0  ...         0         0         0         0         0         0   \n",
       "3       0  ...         0         0         0         0         0         0   \n",
       "4       0  ...         0         0         0         0         0         0   \n",
       "\n",
       "   pixel780  pixel781  pixel782  pixel783  \n",
       "0         0         0         0         0  \n",
       "1         0         0         0         0  \n",
       "2         0         0         0         0  \n",
       "3         0         0         0         0  \n",
       "4         0         0         0         0  \n",
       "\n",
       "[5 rows x 785 columns]"
      ]
     },
     "execution_count": 3,
     "metadata": {},
     "output_type": "execute_result"
    }
   ],
   "source": [
    "train_data.head()"
   ]
  },
  {
   "cell_type": "code",
   "execution_count": 4,
   "id": "25770236",
   "metadata": {
    "execution": {
     "iopub.execute_input": "2022-09-14T00:15:08.337645Z",
     "iopub.status.busy": "2022-09-14T00:15:08.337254Z",
     "iopub.status.idle": "2022-09-14T00:15:08.355519Z",
     "shell.execute_reply": "2022-09-14T00:15:08.354153Z"
    },
    "papermill": {
     "duration": 0.027779,
     "end_time": "2022-09-14T00:15:08.358032",
     "exception": false,
     "start_time": "2022-09-14T00:15:08.330253",
     "status": "completed"
    },
    "tags": []
   },
   "outputs": [
    {
     "data": {
      "text/html": [
       "<div>\n",
       "<style scoped>\n",
       "    .dataframe tbody tr th:only-of-type {\n",
       "        vertical-align: middle;\n",
       "    }\n",
       "\n",
       "    .dataframe tbody tr th {\n",
       "        vertical-align: top;\n",
       "    }\n",
       "\n",
       "    .dataframe thead th {\n",
       "        text-align: right;\n",
       "    }\n",
       "</style>\n",
       "<table border=\"1\" class=\"dataframe\">\n",
       "  <thead>\n",
       "    <tr style=\"text-align: right;\">\n",
       "      <th></th>\n",
       "      <th>pixel0</th>\n",
       "      <th>pixel1</th>\n",
       "      <th>pixel2</th>\n",
       "      <th>pixel3</th>\n",
       "      <th>pixel4</th>\n",
       "      <th>pixel5</th>\n",
       "      <th>pixel6</th>\n",
       "      <th>pixel7</th>\n",
       "      <th>pixel8</th>\n",
       "      <th>pixel9</th>\n",
       "      <th>...</th>\n",
       "      <th>pixel774</th>\n",
       "      <th>pixel775</th>\n",
       "      <th>pixel776</th>\n",
       "      <th>pixel777</th>\n",
       "      <th>pixel778</th>\n",
       "      <th>pixel779</th>\n",
       "      <th>pixel780</th>\n",
       "      <th>pixel781</th>\n",
       "      <th>pixel782</th>\n",
       "      <th>pixel783</th>\n",
       "    </tr>\n",
       "  </thead>\n",
       "  <tbody>\n",
       "    <tr>\n",
       "      <th>0</th>\n",
       "      <td>0</td>\n",
       "      <td>0</td>\n",
       "      <td>0</td>\n",
       "      <td>0</td>\n",
       "      <td>0</td>\n",
       "      <td>0</td>\n",
       "      <td>0</td>\n",
       "      <td>0</td>\n",
       "      <td>0</td>\n",
       "      <td>0</td>\n",
       "      <td>...</td>\n",
       "      <td>0</td>\n",
       "      <td>0</td>\n",
       "      <td>0</td>\n",
       "      <td>0</td>\n",
       "      <td>0</td>\n",
       "      <td>0</td>\n",
       "      <td>0</td>\n",
       "      <td>0</td>\n",
       "      <td>0</td>\n",
       "      <td>0</td>\n",
       "    </tr>\n",
       "    <tr>\n",
       "      <th>1</th>\n",
       "      <td>0</td>\n",
       "      <td>0</td>\n",
       "      <td>0</td>\n",
       "      <td>0</td>\n",
       "      <td>0</td>\n",
       "      <td>0</td>\n",
       "      <td>0</td>\n",
       "      <td>0</td>\n",
       "      <td>0</td>\n",
       "      <td>0</td>\n",
       "      <td>...</td>\n",
       "      <td>0</td>\n",
       "      <td>0</td>\n",
       "      <td>0</td>\n",
       "      <td>0</td>\n",
       "      <td>0</td>\n",
       "      <td>0</td>\n",
       "      <td>0</td>\n",
       "      <td>0</td>\n",
       "      <td>0</td>\n",
       "      <td>0</td>\n",
       "    </tr>\n",
       "    <tr>\n",
       "      <th>2</th>\n",
       "      <td>0</td>\n",
       "      <td>0</td>\n",
       "      <td>0</td>\n",
       "      <td>0</td>\n",
       "      <td>0</td>\n",
       "      <td>0</td>\n",
       "      <td>0</td>\n",
       "      <td>0</td>\n",
       "      <td>0</td>\n",
       "      <td>0</td>\n",
       "      <td>...</td>\n",
       "      <td>0</td>\n",
       "      <td>0</td>\n",
       "      <td>0</td>\n",
       "      <td>0</td>\n",
       "      <td>0</td>\n",
       "      <td>0</td>\n",
       "      <td>0</td>\n",
       "      <td>0</td>\n",
       "      <td>0</td>\n",
       "      <td>0</td>\n",
       "    </tr>\n",
       "    <tr>\n",
       "      <th>3</th>\n",
       "      <td>0</td>\n",
       "      <td>0</td>\n",
       "      <td>0</td>\n",
       "      <td>0</td>\n",
       "      <td>0</td>\n",
       "      <td>0</td>\n",
       "      <td>0</td>\n",
       "      <td>0</td>\n",
       "      <td>0</td>\n",
       "      <td>0</td>\n",
       "      <td>...</td>\n",
       "      <td>0</td>\n",
       "      <td>0</td>\n",
       "      <td>0</td>\n",
       "      <td>0</td>\n",
       "      <td>0</td>\n",
       "      <td>0</td>\n",
       "      <td>0</td>\n",
       "      <td>0</td>\n",
       "      <td>0</td>\n",
       "      <td>0</td>\n",
       "    </tr>\n",
       "    <tr>\n",
       "      <th>4</th>\n",
       "      <td>0</td>\n",
       "      <td>0</td>\n",
       "      <td>0</td>\n",
       "      <td>0</td>\n",
       "      <td>0</td>\n",
       "      <td>0</td>\n",
       "      <td>0</td>\n",
       "      <td>0</td>\n",
       "      <td>0</td>\n",
       "      <td>0</td>\n",
       "      <td>...</td>\n",
       "      <td>0</td>\n",
       "      <td>0</td>\n",
       "      <td>0</td>\n",
       "      <td>0</td>\n",
       "      <td>0</td>\n",
       "      <td>0</td>\n",
       "      <td>0</td>\n",
       "      <td>0</td>\n",
       "      <td>0</td>\n",
       "      <td>0</td>\n",
       "    </tr>\n",
       "  </tbody>\n",
       "</table>\n",
       "<p>5 rows × 784 columns</p>\n",
       "</div>"
      ],
      "text/plain": [
       "   pixel0  pixel1  pixel2  pixel3  pixel4  pixel5  pixel6  pixel7  pixel8  \\\n",
       "0       0       0       0       0       0       0       0       0       0   \n",
       "1       0       0       0       0       0       0       0       0       0   \n",
       "2       0       0       0       0       0       0       0       0       0   \n",
       "3       0       0       0       0       0       0       0       0       0   \n",
       "4       0       0       0       0       0       0       0       0       0   \n",
       "\n",
       "   pixel9  ...  pixel774  pixel775  pixel776  pixel777  pixel778  pixel779  \\\n",
       "0       0  ...         0         0         0         0         0         0   \n",
       "1       0  ...         0         0         0         0         0         0   \n",
       "2       0  ...         0         0         0         0         0         0   \n",
       "3       0  ...         0         0         0         0         0         0   \n",
       "4       0  ...         0         0         0         0         0         0   \n",
       "\n",
       "   pixel780  pixel781  pixel782  pixel783  \n",
       "0         0         0         0         0  \n",
       "1         0         0         0         0  \n",
       "2         0         0         0         0  \n",
       "3         0         0         0         0  \n",
       "4         0         0         0         0  \n",
       "\n",
       "[5 rows x 784 columns]"
      ]
     },
     "execution_count": 4,
     "metadata": {},
     "output_type": "execute_result"
    }
   ],
   "source": [
    "test_data.head()"
   ]
  },
  {
   "cell_type": "markdown",
   "id": "a98efd47",
   "metadata": {
    "papermill": {
     "duration": 0.005456,
     "end_time": "2022-09-14T00:15:08.369362",
     "exception": false,
     "start_time": "2022-09-14T00:15:08.363906",
     "status": "completed"
    },
    "tags": []
   },
   "source": []
  },
  {
   "cell_type": "code",
   "execution_count": 5,
   "id": "49ecfbc2",
   "metadata": {
    "execution": {
     "iopub.execute_input": "2022-09-14T00:15:08.382598Z",
     "iopub.status.busy": "2022-09-14T00:15:08.382212Z",
     "iopub.status.idle": "2022-09-14T00:15:08.486200Z",
     "shell.execute_reply": "2022-09-14T00:15:08.485124Z"
    },
    "papermill": {
     "duration": 0.113702,
     "end_time": "2022-09-14T00:15:08.488676",
     "exception": false,
     "start_time": "2022-09-14T00:15:08.374974",
     "status": "completed"
    },
    "tags": []
   },
   "outputs": [],
   "source": [
    "classes=train_data['label']\n",
    "x_train=train_data.drop('label',axis=1)\n",
    "labels=classes.nunique()"
   ]
  },
  {
   "cell_type": "code",
   "execution_count": 6,
   "id": "59f3bcf5",
   "metadata": {
    "execution": {
     "iopub.execute_input": "2022-09-14T00:15:08.502147Z",
     "iopub.status.busy": "2022-09-14T00:15:08.501739Z",
     "iopub.status.idle": "2022-09-14T00:15:08.586637Z",
     "shell.execute_reply": "2022-09-14T00:15:08.585489Z"
    },
    "papermill": {
     "duration": 0.094962,
     "end_time": "2022-09-14T00:15:08.589408",
     "exception": false,
     "start_time": "2022-09-14T00:15:08.494446",
     "status": "completed"
    },
    "tags": []
   },
   "outputs": [],
   "source": [
    "x_train=x_train.values\n",
    "x_train=x_train.reshape(x_train.shape[0],28,28,1)\n",
    "x_train=x_train.astype('float32')\n",
    "x_train/=255\n",
    "\n"
   ]
  },
  {
   "cell_type": "code",
   "execution_count": 7,
   "id": "6bdecb53",
   "metadata": {
    "execution": {
     "iopub.execute_input": "2022-09-14T00:15:08.602971Z",
     "iopub.status.busy": "2022-09-14T00:15:08.602556Z",
     "iopub.status.idle": "2022-09-14T00:15:08.657247Z",
     "shell.execute_reply": "2022-09-14T00:15:08.655868Z"
    },
    "papermill": {
     "duration": 0.064708,
     "end_time": "2022-09-14T00:15:08.659991",
     "exception": false,
     "start_time": "2022-09-14T00:15:08.595283",
     "status": "completed"
    },
    "tags": []
   },
   "outputs": [],
   "source": [
    "x_test=test_data\n",
    "x_test=x_test.values\n",
    "x_test=x_test.reshape(x_test.shape[0],28,28,1)\n",
    "x_test=x_test.astype('float32')\n",
    "x_test/=255"
   ]
  },
  {
   "cell_type": "code",
   "execution_count": 8,
   "id": "1fcdf8a7",
   "metadata": {
    "execution": {
     "iopub.execute_input": "2022-09-14T00:15:08.673709Z",
     "iopub.status.busy": "2022-09-14T00:15:08.673315Z",
     "iopub.status.idle": "2022-09-14T00:15:10.205050Z",
     "shell.execute_reply": "2022-09-14T00:15:10.204155Z"
    },
    "papermill": {
     "duration": 1.541293,
     "end_time": "2022-09-14T00:15:10.207329",
     "exception": false,
     "start_time": "2022-09-14T00:15:08.666036",
     "status": "completed"
    },
    "tags": []
   },
   "outputs": [
    {
     "data": {
      "text/plain": [
       "((33600, 28, 28, 1), (8400, 28, 28, 1))"
      ]
     },
     "execution_count": 8,
     "metadata": {},
     "output_type": "execute_result"
    }
   ],
   "source": [
    "from sklearn.model_selection import train_test_split\n",
    "x_train,x_val,y_train,y_val=train_test_split(x_train,classes,test_size=0.2,random_state=100)\n",
    "x_train.shape,x_val.shape\n"
   ]
  },
  {
   "cell_type": "code",
   "execution_count": 9,
   "id": "8767a036",
   "metadata": {
    "execution": {
     "iopub.execute_input": "2022-09-14T00:15:10.221816Z",
     "iopub.status.busy": "2022-09-14T00:15:10.220975Z",
     "iopub.status.idle": "2022-09-14T00:15:17.259852Z",
     "shell.execute_reply": "2022-09-14T00:15:17.258609Z"
    },
    "papermill": {
     "duration": 7.050379,
     "end_time": "2022-09-14T00:15:17.263768",
     "exception": false,
     "start_time": "2022-09-14T00:15:10.213389",
     "status": "completed"
    },
    "tags": []
   },
   "outputs": [],
   "source": [
    "import tensorflow\n",
    "from keras.models import Sequential\n",
    "from tensorflow.keras.layers import BatchNormalization\n",
    "from keras.layers.convolutional import Conv2D,MaxPooling2D\n",
    "from keras.layers.advanced_activations import ELU\n",
    "from keras.layers.core import Activation,Flatten,Dropout,Dense\n",
    "from tensorflow.keras.optimizers import RMSprop ,SGD,Adam\n",
    "from tensorflow.keras.callbacks import ModelCheckpoint,EarlyStopping,ReduceLROnPlateau"
   ]
  },
  {
   "cell_type": "code",
   "execution_count": 10,
   "id": "ad2d70c4",
   "metadata": {
    "execution": {
     "iopub.execute_input": "2022-09-14T00:15:17.278601Z",
     "iopub.status.busy": "2022-09-14T00:15:17.277839Z",
     "iopub.status.idle": "2022-09-14T00:15:17.284017Z",
     "shell.execute_reply": "2022-09-14T00:15:17.282858Z"
    },
    "papermill": {
     "duration": 0.016329,
     "end_time": "2022-09-14T00:15:17.286371",
     "exception": false,
     "start_time": "2022-09-14T00:15:17.270042",
     "status": "completed"
    },
    "tags": []
   },
   "outputs": [],
   "source": [
    "num_classes=labels\n",
    "img_rows,img_cols=28,28\n",
    "batch_size=20"
   ]
  },
  {
   "cell_type": "code",
   "execution_count": 11,
   "id": "ad2bd921",
   "metadata": {
    "execution": {
     "iopub.execute_input": "2022-09-14T00:15:17.300302Z",
     "iopub.status.busy": "2022-09-14T00:15:17.299806Z",
     "iopub.status.idle": "2022-09-14T00:15:17.483006Z",
     "shell.execute_reply": "2022-09-14T00:15:17.480543Z"
    },
    "papermill": {
     "duration": 0.194846,
     "end_time": "2022-09-14T00:15:17.487219",
     "exception": false,
     "start_time": "2022-09-14T00:15:17.292373",
     "status": "completed"
    },
    "tags": []
   },
   "outputs": [
    {
     "name": "stderr",
     "output_type": "stream",
     "text": [
      "2022-09-14 00:15:17.353941: I tensorflow/core/common_runtime/process_util.cc:146] Creating new thread pool with default inter op setting: 2. Tune using inter_op_parallelism_threads for best performance.\n"
     ]
    }
   ],
   "source": [
    "import tensorflow as tf\n",
    "model = Sequential()\n",
    "model.add(Conv2D(28, kernel_size=(3,3), input_shape=(28,28,1)))\n",
    "model.add(MaxPooling2D(pool_size=(2, 2)))\n",
    "model.add(Flatten())\n",
    "model.add(Dense(128, activation=tf.nn.relu))\n",
    "model.add(Dropout(0.2))\n",
    "model.add(Dense(50,activation=tf.nn.relu))\n",
    "model.add(Dense(num_classes,activation=tf.nn.softmax))"
   ]
  },
  {
   "cell_type": "code",
   "execution_count": 12,
   "id": "54fc078a",
   "metadata": {
    "execution": {
     "iopub.execute_input": "2022-09-14T00:15:17.501747Z",
     "iopub.status.busy": "2022-09-14T00:15:17.501339Z",
     "iopub.status.idle": "2022-09-14T00:15:17.515806Z",
     "shell.execute_reply": "2022-09-14T00:15:17.514503Z"
    },
    "papermill": {
     "duration": 0.025065,
     "end_time": "2022-09-14T00:15:17.518748",
     "exception": false,
     "start_time": "2022-09-14T00:15:17.493683",
     "status": "completed"
    },
    "tags": []
   },
   "outputs": [],
   "source": [
    "model.compile(optimizer='adam', loss='sparse_categorical_crossentropy', metrics=['accuracy'])"
   ]
  },
  {
   "cell_type": "code",
   "execution_count": 13,
   "id": "96bc5d52",
   "metadata": {
    "execution": {
     "iopub.execute_input": "2022-09-14T00:15:17.533305Z",
     "iopub.status.busy": "2022-09-14T00:15:17.532475Z",
     "iopub.status.idle": "2022-09-14T00:17:40.289285Z",
     "shell.execute_reply": "2022-09-14T00:17:40.288341Z"
    },
    "papermill": {
     "duration": 142.85891,
     "end_time": "2022-09-14T00:17:40.383889",
     "exception": false,
     "start_time": "2022-09-14T00:15:17.524979",
     "status": "completed"
    },
    "tags": []
   },
   "outputs": [
    {
     "name": "stderr",
     "output_type": "stream",
     "text": [
      "2022-09-14 00:15:17.721567: I tensorflow/compiler/mlir/mlir_graph_optimization_pass.cc:185] None of the MLIR Optimization Passes are enabled (registered 2)\n"
     ]
    },
    {
     "name": "stdout",
     "output_type": "stream",
     "text": [
      "Epoch 1/10\n",
      "1050/1050 [==============================] - 9s 8ms/step - loss: 0.2758 - accuracy: 0.9190 - val_loss: 0.1120 - val_accuracy: 0.9642\n",
      "Epoch 2/10\n",
      "1050/1050 [==============================] - 9s 8ms/step - loss: 0.1044 - accuracy: 0.9665 - val_loss: 0.0915 - val_accuracy: 0.9730\n",
      "Epoch 3/10\n",
      "1050/1050 [==============================] - 8s 7ms/step - loss: 0.0719 - accuracy: 0.9770 - val_loss: 0.0860 - val_accuracy: 0.9740\n",
      "Epoch 4/10\n",
      "1050/1050 [==============================] - 8s 8ms/step - loss: 0.0525 - accuracy: 0.9827 - val_loss: 0.0782 - val_accuracy: 0.9789\n",
      "Epoch 5/10\n",
      "1050/1050 [==============================] - 8s 8ms/step - loss: 0.0456 - accuracy: 0.9848 - val_loss: 0.0764 - val_accuracy: 0.9792\n",
      "Epoch 6/10\n",
      "1050/1050 [==============================] - 9s 8ms/step - loss: 0.0339 - accuracy: 0.9883 - val_loss: 0.0924 - val_accuracy: 0.9760\n",
      "Epoch 7/10\n",
      "1050/1050 [==============================] - 8s 8ms/step - loss: 0.0316 - accuracy: 0.9887 - val_loss: 0.0860 - val_accuracy: 0.9786\n",
      "Epoch 8/10\n",
      "1050/1050 [==============================] - 8s 8ms/step - loss: 0.0260 - accuracy: 0.9910 - val_loss: 0.0922 - val_accuracy: 0.9792\n",
      "Epoch 9/10\n",
      "1050/1050 [==============================] - 8s 8ms/step - loss: 0.0254 - accuracy: 0.9914 - val_loss: 0.0829 - val_accuracy: 0.9805\n",
      "Epoch 10/10\n",
      "1050/1050 [==============================] - 9s 8ms/step - loss: 0.0245 - accuracy: 0.9917 - val_loss: 0.0850 - val_accuracy: 0.9801\n"
     ]
    },
    {
     "data": {
      "text/plain": [
       "<keras.callbacks.History at 0x7fbb721eddd0>"
      ]
     },
     "execution_count": 13,
     "metadata": {},
     "output_type": "execute_result"
    }
   ],
   "source": [
    "\n",
    "model.fit(x=x_train,y=y_train,epochs=10,\n",
    "         validation_data=(x_val,y_val))"
   ]
  },
  {
   "cell_type": "code",
   "execution_count": 14,
   "id": "6473be92",
   "metadata": {
    "execution": {
     "iopub.execute_input": "2022-09-14T00:17:40.572312Z",
     "iopub.status.busy": "2022-09-14T00:17:40.571553Z",
     "iopub.status.idle": "2022-09-14T00:17:41.489394Z",
     "shell.execute_reply": "2022-09-14T00:17:41.487992Z"
    },
    "papermill": {
     "duration": 1.015544,
     "end_time": "2022-09-14T00:17:41.492040",
     "exception": false,
     "start_time": "2022-09-14T00:17:40.476496",
     "status": "completed"
    },
    "tags": []
   },
   "outputs": [
    {
     "data": {
      "image/png": "[encoded data removed]",
      "text/plain": [
       "<Figure size 432x288 with 5 Axes>"
      ]
     },
     "metadata": {
      "needs_background": "light"
     },
     "output_type": "display_data"
    }
   ],
   "source": [
    "import matplotlib.pyplot as plt\n",
    "row=1\n",
    "cols=5\n",
    "for i in range(1,6):\n",
    "    image_index = np.random.randint(1,28000)\n",
    "    plt.subplot(row,cols,i)\n",
    "    plt.imshow(x_test[image_index].reshape(28, 28),cmap='Greys')\n",
    "    predict = x_test[image_index].reshape(28,28)\n",
    "    pred = model.predict(x_test[image_index].reshape(1,28, 28, 1))\n",
    "    plt.title(f'Predicted \\nlabel:{pred.argmax()}')"
   ]
  },
  {
   "cell_type": "code",
   "execution_count": 15,
   "id": "ecc07c2a",
   "metadata": {
    "execution": {
     "iopub.execute_input": "2022-09-14T00:17:41.678292Z",
     "iopub.status.busy": "2022-09-14T00:17:41.677490Z",
     "iopub.status.idle": "2022-09-14T00:17:44.043027Z",
     "shell.execute_reply": "2022-09-14T00:17:44.041787Z"
    },
    "papermill": {
     "duration": 2.461899,
     "end_time": "2022-09-14T00:17:44.045916",
     "exception": false,
     "start_time": "2022-09-14T00:17:41.584017",
     "status": "completed"
    },
    "tags": []
   },
   "outputs": [],
   "source": [
    "final_results=np.argmax(model.predict(x_test),axis=1)"
   ]
  },
  {
   "cell_type": "code",
   "execution_count": 16,
   "id": "43c553f8",
   "metadata": {
    "execution": {
     "iopub.execute_input": "2022-09-14T00:17:44.231808Z",
     "iopub.status.busy": "2022-09-14T00:17:44.230751Z",
     "iopub.status.idle": "2022-09-14T00:17:44.245320Z",
     "shell.execute_reply": "2022-09-14T00:17:44.244161Z"
    },
    "papermill": {
     "duration": 0.109353,
     "end_time": "2022-09-14T00:17:44.247753",
     "exception": false,
     "start_time": "2022-09-14T00:17:44.138400",
     "status": "completed"
    },
    "tags": []
   },
   "outputs": [
    {
     "data": {
      "text/html": [
       "<div>\n",
       "<style scoped>\n",
       "    .dataframe tbody tr th:only-of-type {\n",
       "        vertical-align: middle;\n",
       "    }\n",
       "\n",
       "    .dataframe tbody tr th {\n",
       "        vertical-align: top;\n",
       "    }\n",
       "\n",
       "    .dataframe thead th {\n",
       "        text-align: right;\n",
       "    }\n",
       "</style>\n",
       "<table border=\"1\" class=\"dataframe\">\n",
       "  <thead>\n",
       "    <tr style=\"text-align: right;\">\n",
       "      <th></th>\n",
       "      <th>ImageId</th>\n",
       "      <th>Label</th>\n",
       "    </tr>\n",
       "  </thead>\n",
       "  <tbody>\n",
       "    <tr>\n",
       "      <th>0</th>\n",
       "      <td>1</td>\n",
       "      <td>2</td>\n",
       "    </tr>\n",
       "    <tr>\n",
       "      <th>1</th>\n",
       "      <td>2</td>\n",
       "      <td>0</td>\n",
       "    </tr>\n",
       "    <tr>\n",
       "      <th>2</th>\n",
       "      <td>3</td>\n",
       "      <td>9</td>\n",
       "    </tr>\n",
       "    <tr>\n",
       "      <th>3</th>\n",
       "      <td>4</td>\n",
       "      <td>9</td>\n",
       "    </tr>\n",
       "    <tr>\n",
       "      <th>4</th>\n",
       "      <td>5</td>\n",
       "      <td>3</td>\n",
       "    </tr>\n",
       "    <tr>\n",
       "      <th>...</th>\n",
       "      <td>...</td>\n",
       "      <td>...</td>\n",
       "    </tr>\n",
       "    <tr>\n",
       "      <th>27995</th>\n",
       "      <td>27996</td>\n",
       "      <td>9</td>\n",
       "    </tr>\n",
       "    <tr>\n",
       "      <th>27996</th>\n",
       "      <td>27997</td>\n",
       "      <td>7</td>\n",
       "    </tr>\n",
       "    <tr>\n",
       "      <th>27997</th>\n",
       "      <td>27998</td>\n",
       "      <td>3</td>\n",
       "    </tr>\n",
       "    <tr>\n",
       "      <th>27998</th>\n",
       "      <td>27999</td>\n",
       "      <td>9</td>\n",
       "    </tr>\n",
       "    <tr>\n",
       "      <th>27999</th>\n",
       "      <td>28000</td>\n",
       "      <td>2</td>\n",
       "    </tr>\n",
       "  </tbody>\n",
       "</table>\n",
       "<p>28000 rows × 2 columns</p>\n",
       "</div>"
      ],
      "text/plain": [
       "       ImageId  Label\n",
       "0            1      2\n",
       "1            2      0\n",
       "2            3      9\n",
       "3            4      9\n",
       "4            5      3\n",
       "...        ...    ...\n",
       "27995    27996      9\n",
       "27996    27997      7\n",
       "27997    27998      3\n",
       "27998    27999      9\n",
       "27999    28000      2\n",
       "\n",
       "[28000 rows x 2 columns]"
      ]
     },
     "execution_count": 16,
     "metadata": {},
     "output_type": "execute_result"
    }
   ],
   "source": [
    "submission_file=pd.DataFrame({'ImageId':test_data.index+1,'Label':final_results})\n",
    "submission_file"
   ]
  },
  {
   "cell_type": "code",
   "execution_count": 17,
   "id": "f9450551",
   "metadata": {
    "execution": {
     "iopub.execute_input": "2022-09-14T00:17:44.434848Z",
     "iopub.status.busy": "2022-09-14T00:17:44.433991Z",
     "iopub.status.idle": "2022-09-14T00:17:44.470425Z",
     "shell.execute_reply": "2022-09-14T00:17:44.469344Z"
    },
    "papermill": {
     "duration": 0.132779,
     "end_time": "2022-09-14T00:17:44.473173",
     "exception": false,
     "start_time": "2022-09-14T00:17:44.340394",
     "status": "completed"
    },
    "tags": []
   },
   "outputs": [],
   "source": [
    "submission_file.to_csv('submission.csv',index=False)\n"
   ]
  },
  {
   "cell_type": "code",
   "execution_count": null,
   "id": "52d6d709",
   "metadata": {
    "papermill": {
     "duration": 0.091811,
     "end_time": "2022-09-14T00:17:44.656153",
     "exception": false,
     "start_time": "2022-09-14T00:17:44.564342",
     "status": "completed"
    },
    "tags": []
   },
   "outputs": [],
   "source": []
  }
 ],
 "metadata": {
  "kernelspec": {
   "display_name": "Python 3",
   "language": "python",
   "name": "python3"
  },
  "language_info": {
   "codemirror_mode": {
    "name": "ipython",
    "version": 3
   },
   "file_extension": ".py",
   "mimetype": "text/x-python",
   "name": "python",
   "nbconvert_exporter": "python",
   "pygments_lexer": "ipython3",
   "version": "3.7.12"
  },
  "papermill": {
   "default_parameters": {},
   "duration": 176.402083,
   "end_time": "2022-09-14T00:17:48.273980",
   "environment_variables": {},
   "exception": null,
   "input_path": "__notebook__.ipynb",
   "output_path": "__notebook__.ipynb",
   "parameters": {},
   "start_time": "2022-09-14T00:14:51.871897",
   "version": "2.3.4"
  }
 },
 "nbformat": 4,
 "nbformat_minor": 5
}
